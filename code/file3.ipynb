{
 "cells": [
  {
   "cell_type": "code",
   "execution_count": 103,
   "metadata": {},
   "outputs": [
    {
     "name": "stdout",
     "output_type": "stream",
     "text": [
      "Linear Regression MAE: 0.22755506051044447\n",
      "Random Forest MAE: 0.051383367835189056\n",
      "Gradient Boosting MAE: 0.09529050945869526\n",
      "Best performing model: Random Forest with MAE: 0.051383367835189056\n"
     ]
    }
   ],
   "source": [
    "import pandas as pd\n",
    "import numpy as np\n",
    "from sklearn.model_selection import train_test_split\n",
    "from sklearn.linear_model import LinearRegression\n",
    "from sklearn.ensemble import RandomForestRegressor, GradientBoostingRegressor\n",
    "from sklearn.metrics import mean_absolute_error\n",
    "\n",
    "# Load your data from CSV text\n",
    "data = pd.read_csv('../DATA2/merged.csv')\n",
    "\n",
    "# Split data into features and target\n",
    "X = data.drop('hourly_kwh', axis=1)\n",
    "y = data['hourly_kwh']\n",
    "\n",
    "# Convert 'FID' to datetime and extract useful features\n",
    "X['FID'] = pd.to_datetime(X['FID'])\n",
    "X['hour'] = X['FID'].dt.hour\n",
    "X['month'] = X['FID'].dt.month\n",
    "X['day'] = X['FID'].dt.day\n",
    "X.drop('FID', axis=1, inplace=True)\n",
    "\n",
    "# Split the data into training and testing sets\n",
    "X_train, X_test, y_train, y_test = train_test_split(X, y, test_size=0.2, random_state=42)\n",
    "\n",
    "# Initialize models\n",
    "models = {\n",
    "    \"Linear Regression\": LinearRegression(),\n",
    "    \"Random Forest\": RandomForestRegressor(n_estimators=100, random_state=42),\n",
    "    \"Gradient Boosting\": GradientBoostingRegressor(n_estimators=100, random_state=42)\n",
    "}\n",
    "\n",
    "# Train and evaluate models\n",
    "results = {}\n",
    "for name, model in models.items():\n",
    "    model.fit(X_train, y_train)\n",
    "    y_pred = model.predict(X_test)\n",
    "    mae = mean_absolute_error(y_test, y_pred)\n",
    "    results[name] = mae\n",
    "    print(f'{name} MAE: {mae}')\n",
    "\n",
    "# Find the best model\n",
    "best_model = min(results, key=results.get)\n",
    "print(f'Best performing model: {best_model} with MAE: {results[best_model]}')\n"
   ]
  },
  {
   "cell_type": "code",
   "execution_count": 104,
   "metadata": {},
   "outputs": [
    {
     "name": "stdout",
     "output_type": "stream",
     "text": [
      "Mean Absolute Error: 0.05184444711692965\n",
      "Optimized model training complete and saved.\n"
     ]
    }
   ],
   "source": [
    "import pandas as pd\n",
    "import joblib\n",
    "from sklearn.model_selection import train_test_split\n",
    "from sklearn.ensemble import RandomForestRegressor\n",
    "from sklearn.metrics import mean_absolute_error\n",
    "\n",
    "# Load the training data\n",
    "data = pd.read_csv('../DATA2/merged.csv')\n",
    "\n",
    "# Prepare features and target variables\n",
    "X = data.drop('hourly_kwh', axis=1)\n",
    "y = data['hourly_kwh']\n",
    "\n",
    "# Preprocess 'FID' to datetime and extract relevant features\n",
    "X['FID'] = pd.to_datetime(X['FID'])\n",
    "X['hour'] = X['FID'].dt.hour\n",
    "X['month'] = X['FID'].dt.month\n",
    "X['day'] = X['FID'].dt.day\n",
    "X.drop('FID', axis=1, inplace=True)\n",
    "\n",
    "# Split the data into training and testing sets\n",
    "X_train, X_test, y_train, y_test = train_test_split(X, y, test_size=0.2, random_state=42)\n",
    "\n",
    "# Initialize the RandomForestRegressor with the optimized parameters\n",
    "rf_model = RandomForestRegressor(max_depth=20, min_samples_split=2, n_estimators=50, random_state=42)\n",
    "\n",
    "# Train the model\n",
    "rf_model.fit(X_train, y_train)\n",
    "\n",
    "# Predict on the test set\n",
    "y_pred = rf_model.predict(X_test)\n",
    "\n",
    "# Evaluate the model\n",
    "mae = mean_absolute_error(y_test, y_pred)\n",
    "print(f'Mean Absolute Error: {mae}')\n",
    "\n",
    "# Save the model\n",
    "joblib.dump(rf_model, '../DATA2/optimized_random_forest_model.pkl')\n",
    "\n",
    "print(\"Optimized model training complete and saved.\")\n"
   ]
  },
  {
   "cell_type": "code",
   "execution_count": 105,
   "metadata": {},
   "outputs": [
    {
     "name": "stdout",
     "output_type": "stream",
     "text": [
      "['temp', 'pressure', 'cloudiness', 'humidity_relative', 'distanceToWareMiddag', 'hasSunLight', 'hour', 'month', 'day']\n"
     ]
    }
   ],
   "source": [
    "# Load the trained model\n",
    "rf_model = joblib.load('../DATA2/optimized_random_forest_model.pkl')\n",
    "\n",
    "# Get the feature names used for training\n",
    "feature_names = list(X_train.columns)\n",
    "\n",
    "print(feature_names)"
   ]
  },
  {
   "cell_type": "code",
   "execution_count": 106,
   "metadata": {},
   "outputs": [
    {
     "name": "stdout",
     "output_type": "stream",
     "text": [
      "            timestamp  predicted_hourly_kwh\n",
      "0 2024-04-19 11:00:00              0.253354\n",
      "1 2024-04-19 12:00:00              0.245944\n",
      "2 2024-04-19 13:00:00              0.253580\n",
      "3 2024-04-19 14:00:00              0.256731\n",
      "4 2024-04-19 15:00:00              0.324797\n"
     ]
    }
   ],
   "source": [
    "# Load the forecast data\n",
    "forecast = pd.read_csv('../DATA2/forecast.csv')\n",
    "forecast['timestamp'] = pd.to_datetime(forecast['timestamp'])\n",
    "forecast['hour'] = forecast['timestamp'].dt.hour\n",
    "forecast['month'] = forecast['timestamp'].dt.month\n",
    "forecast['day'] = forecast['timestamp'].dt.day\n",
    "\n",
    "# Prepare the features for prediction\n",
    "features_forecast = forecast[['temp', 'pressure', 'cloudiness', 'humidity_relative', 'distanceToWareMiddag', 'hasSunLight', 'hour', 'month', 'day']]\n",
    "\n",
    "# Load the optimized model\n",
    "rf_model = joblib.load('../DATA2/optimized_random_forest_model.pkl')\n",
    "\n",
    "\n",
    "# Make predictions\n",
    "forecast['predicted_hourly_kwh'] = rf_model.predict(features_forecast)\n",
    "\n",
    "# Display the first few prediction results\n",
    "print(forecast[['timestamp', 'predicted_hourly_kwh']].head())\n",
    "\n",
    "# Optionally, save the predictions to a CSV for further analysis or use\n",
    "forecast.to_csv('../DATA2/forecast_predictions.csv', index=False)\n",
    "\n",
    "# drop the columns that are not needed\n",
    "forecast.drop(['temp', 'pressure', 'cloudiness', 'humidity_relative', 'distanceToWareMiddag', 'hasSunLight', 'hour', 'month', 'day'], axis=1, inplace=True)\n",
    "\n",
    "# Save the predictions to a CSV file\n",
    "forecast.to_csv('../DATA2/RESULTS.csv', index=False)\n"
   ]
  },
  {
   "cell_type": "code",
   "execution_count": 107,
   "metadata": {},
   "outputs": [
    {
     "data": {
      "text/plain": [
       "'\\nfrom sklearn.ensemble import RandomForestRegressor\\nfrom sklearn.model_selection import GridSearchCV\\n\\n# Define the model with potential new parameters\\nrf = RandomForestRegressor(random_state=42)\\n\\n# Set up GridSearchCV to find better parameters\\nparam_grid = {\\n    \\'n_estimators\\': [50, 100, 150],\\n    \\'max_depth\\': [10, 20, None],\\n    \\'min_samples_split\\': [2, 10, 20]\\n}\\n\\ngrid_search = GridSearchCV(estimator=rf, param_grid=param_grid, cv=3, scoring=\\'neg_mean_absolute_error\\', verbose=2)\\ngrid_search.fit(X_train, y_train)\\n\\n# Print best parameters\\nprint(\"Best parameters:\", grid_search.best_params_)\\n\\n# Use the best estimator to make predictions\\nbest_rf = grid_search.best_estimator_\\npredictions = best_rf.predict(X_test)\\n\\n# Check new MAE\\nnew_mae = mean_absolute_error(y_test, predictions)\\nprint(f\\'New Mean Absolute Error: {new_mae}\\')\\n'"
      ]
     },
     "execution_count": 107,
     "metadata": {},
     "output_type": "execute_result"
    }
   ],
   "source": [
    "\"\"\"\n",
    "from sklearn.ensemble import RandomForestRegressor\n",
    "from sklearn.model_selection import GridSearchCV\n",
    "\n",
    "# Define the model with potential new parameters\n",
    "rf = RandomForestRegressor(random_state=42)\n",
    "\n",
    "# Set up GridSearchCV to find better parameters\n",
    "param_grid = {\n",
    "    'n_estimators': [50, 100, 150],\n",
    "    'max_depth': [10, 20, None],\n",
    "    'min_samples_split': [2, 10, 20]\n",
    "}\n",
    "\n",
    "grid_search = GridSearchCV(estimator=rf, param_grid=param_grid, cv=3, scoring='neg_mean_absolute_error', verbose=2)\n",
    "grid_search.fit(X_train, y_train)\n",
    "\n",
    "# Print best parameters\n",
    "print(\"Best parameters:\", grid_search.best_params_)\n",
    "\n",
    "# Use the best estimator to make predictions\n",
    "best_rf = grid_search.best_estimator_\n",
    "predictions = best_rf.predict(X_test)\n",
    "\n",
    "# Check new MAE\n",
    "new_mae = mean_absolute_error(y_test, predictions)\n",
    "print(f'New Mean Absolute Error: {new_mae}')\n",
    "\"\"\"\n"
   ]
  },
  {
   "cell_type": "code",
   "execution_count": 108,
   "metadata": {},
   "outputs": [
    {
     "data": {
      "image/png": "[encoded data removed]",
      "text/plain": [
       "<Figure size 1000x600 with 1 Axes>"
      ]
     },
     "metadata": {},
     "output_type": "display_data"
    },
    {
     "name": "stdout",
     "output_type": "stream",
     "text": [
      "Index(['temp', 'pressure', 'cloudiness', 'humidity_relative',\n",
      "       'distanceToWareMiddag', 'hasSunLight', 'hour', 'month', 'day'],\n",
      "      dtype='object')\n",
      "[0.0368389  0.05004407 0.1564446  0.06091069 0.50470509 0.01422622\n",
      " 0.04922494 0.09584149 0.031764  ]\n",
      "{'bootstrap': True, 'ccp_alpha': 0.0, 'criterion': 'squared_error', 'max_depth': 20, 'max_features': 1.0, 'max_leaf_nodes': None, 'max_samples': None, 'min_impurity_decrease': 0.0, 'min_samples_leaf': 1, 'min_samples_split': 2, 'min_weight_fraction_leaf': 0.0, 'monotonic_cst': None, 'n_estimators': 50, 'n_jobs': None, 'oob_score': False, 'random_state': 42, 'verbose': 0, 'warm_start': False}\n"
     ]
    }
   ],
   "source": [
    "import matplotlib.pyplot as plt\n",
    "import seaborn as sns\n",
    "\n",
    "# Plotting feature importance for a tree-based model\n",
    "def plot_feature_importance(model, features):\n",
    "    plt.figure(figsize=(10, 6))\n",
    "    n_features = len(features)\n",
    "    plt.barh(range(n_features), model.feature_importances_, align='center')\n",
    "    plt.yticks(np.arange(n_features), features)\n",
    "    plt.xlabel(\"Feature importance\")\n",
    "    plt.ylabel(\"Feature\")\n",
    "    plt.ylim(-1, n_features)\n",
    "\n",
    "# Assuming 'rf_model' is your trained RandomForest model\n",
    "plot_feature_importance(rf_model, X_train.columns)\n",
    "plt.show()\n",
    "print(X_train.columns)\n",
    "print(rf_model.feature_importances_)\n",
    "print(rf_model.get_params())\n",
    "\n"
   ]
  }
 ],
 "metadata": {
  "kernelspec": {
   "display_name": "Python 3",
   "language": "python",
   "name": "python3"
  },
  "language_info": {
   "codemirror_mode": {
    "name": "ipython",
    "version": 3
   },
   "file_extension": ".py",
   "mimetype": "text/x-python",
   "name": "python",
   "nbconvert_exporter": "python",
   "pygments_lexer": "ipython3",
   "version": "3.11.9"
  }
 },
 "nbformat": 4,
 "nbformat_minor": 2
}
